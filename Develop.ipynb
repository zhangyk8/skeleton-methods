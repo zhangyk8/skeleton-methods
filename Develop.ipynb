{
 "cells": [
  {
   "cell_type": "markdown",
   "id": "de16f617",
   "metadata": {},
   "source": [
    "# Notebook to test codes"
   ]
  },
  {
   "cell_type": "code",
   "execution_count": 2,
   "id": "10162dfb",
   "metadata": {},
   "outputs": [],
   "source": [
    "import numpy as np\n",
    "import pandas as pd\n",
    "import scipy"
   ]
  },
  {
   "cell_type": "code",
   "execution_count": null,
   "id": "bfaaa8ad",
   "metadata": {},
   "outputs": [],
   "source": [
    "def distance_matrix(A, B, squared=False):\n",
    "    \"\"\"\n",
    "    Compute all pairwise distances between vectors in A and B.\n",
    "\n",
    "    Parameters\n",
    "    ----------\n",
    "    A : np.array\n",
    "        shape should be (M, K)\n",
    "    B : np.array\n",
    "        shape should be (N, K)\n",
    "\n",
    "    Returns\n",
    "    -------\n",
    "    D : np.array\n",
    "        A matrix D of shape (M, N).  Each entry in D i,j represnets the\n",
    "        distance between row i in A and row j in B.\n",
    "    \"\"\"\n",
    "    M = A.shape[0]\n",
    "    N = B.shape[0]\n",
    "\n",
    "    assert A.shape[1] == B.shape[1], f\"The number of components for vectors in A \\\n",
    "        {A.shape[1]} does not match that of B {B.shape[1]}!\"\n",
    "\n",
    "    A_dots = (A*A).sum(axis=1).reshape((M,1))*np.ones(shape=(1,N))\n",
    "    B_dots = (B*B).sum(axis=1)*np.ones(shape=(M,1))\n",
    "    D_squared =  A_dots + B_dots -2*A.dot(B.T)\n",
    "\n",
    "    if squared == False:\n",
    "        zero_mask = np.less(D_squared, 0.0)\n",
    "        D_squared[zero_mask] = 0.0\n",
    "        return np.sqrt(D_squared)\n",
    "\n",
    "    return D_squared"
   ]
  },
  {
   "cell_type": "code",
   "execution_count": 3,
   "id": "480c66ea",
   "metadata": {},
   "outputs": [],
   "source": [
    "from scipy.spatial import distance_matrix"
   ]
  },
  {
   "cell_type": "markdown",
   "id": "78acd511",
   "metadata": {},
   "source": [
    "Yinyang_data = function(n_m=400,n_c=200,n_r=2000,sd_c=0.1,sd_r=0.1, d=2, sd_high=0.1){\n",
    "  X_m = clusterSim::shapes.two.moon(n_m)\n",
    "\n",
    "  x1 = cbind(stats::rnorm(n_c, mean= 0.5, sd=sd_c), stats::rnorm(n_c, mean= -1.5, sd=sd_c))\n",
    "  x2 = cbind(stats::rnorm(n_c, mean= -1, sd=sd_c), stats::rnorm(n_c, mean= 0.5, sd=sd_c))\n",
    "\n",
    "  th = stats::runif(n_r,0,2*pi)\n",
    "  x  = 2.5*cos(th) - 0.25\n",
    "  y  = 2.5*sin(th) -0.5\n",
    "  x3  = cbind(x,y) + matrix(stats::rnorm(2*length(x), sd=sd_r), ncol=2)\n",
    "\n",
    "  X = rbind(X_m$data, x1, x2, x3)\n",
    "\n",
    "  if(d==2){\n",
    "    X0 = X\n",
    "  }\n",
    "  if(d>2){\n",
    "    n = nrow(X)\n",
    "    d_add = d-2\n",
    "    X0 = cbind(X, matrix(stats::rnorm(d_add*(n),  sd = sd_high), nrow = n))\n",
    "  }\n",
    "  Y0 = c(X_m$clusters, rep(3,n_c), rep(4,n_c), rep(5,n_r))\n",
    "  return(list(data = X0, clus = Y0))\n",
    "}"
   ]
  },
  {
   "cell_type": "code",
   "execution_count": null,
   "id": "84695113",
   "metadata": {},
   "outputs": [],
   "source": [
    "    \"\"\"\n",
    "    Generating Yinyang data\n",
    "\n",
    "    Parameters\n",
    "    ----------\n",
    "    n_m number of points in each of the two moon shapes. Positive integer value or vector with length=2\n",
    "    n_c number of points in each of the two small circles\n",
    "    n_r number of points in the outer ring\n",
    "    sd_c the standard deviation of shifts for points in the two small circles\n",
    "    sd_r the standard deviation of shifts for points in the outer ring\n",
    "    d a number indicating the dimension of the generated data. d>2 dimensions are filled with independent Gaussian noises\n",
    "    sd_high a number indicating the standard deviation for Gaussian noises in the higher dimensions\n",
    "#' @\n",
    "#' \\itemize{\n",
    "#'   \\item \n",
    "#'   \\item \n",
    "#' }\n",
    "    Returns\n",
    "    -------\n",
    "    return A list of generated data points and the true labels\n",
    "    \n",
    "    data: The generated data matrix\n",
    "    clus: The vector of true cluster labels for each data point\n",
    "    \"\"\"\n",
    "def yinyang_data(n_m=400,n_c=200,n_r=2000,sd_c=0.1,sd_r=0.1, d=2, sd_high=0.1):\n",
    "    "
   ]
  },
  {
   "cell_type": "code",
   "execution_count": null,
   "id": "210a57e6",
   "metadata": {},
   "outputs": [],
   "source": [
    "def twoMoon(numObjects = 180, shape1a = -0.4, shape2b = 1, shape1rFrom = 0.8, \n",
    "    shape1rTo = 1.2, shape2rFrom = 0.8, shape2rTo = 1.2, outputCsv = \"\", \n",
    "    outputCsv2 = \"\", outputColNames = TRUE, outputRowNames = TRUE):\n",
    "    \n",
    "    nrow = numObjects*2\n",
    "    x =  np.array([[0 for row in range(nrow)] for col in range(2)])\n",
    "    for (i in 1:nrow) {\n",
    "        alpha <- runif(1, 0, 2 * pi)\n",
    "        if (i > lo[1]) {\n",
    "            r = runif(1, shape2rFrom, shape2rTo)\n",
    "        }\n",
    "        else {\n",
    "            r = runif(1, shape1rFrom, shape1rTo)\n",
    "        }\n",
    "        x[i, 1] <- r * cos(alpha)\n",
    "        x[i, 2] <- r * sin(alpha)\n",
    "        if (i <= lo[1]) {\n",
    "            x[i, 1] = shape1a + abs(x[i, 1])\n",
    "        }\n",
    "        else {\n",
    "            x[i, 1] = -abs(x[i, 1])\n",
    "            x[i, 2] = x[i, 2] - shape2b\n",
    "        }\n",
    "    }\n",
    "    data <- x\n",
    "    klasy <- c(rep(1, lo[1]), rep(2, lo[2]))\n",
    "    .toCsv(outputCsv, data, klasy, outputColNames, outputRowNames, \n",
    "        FALSE)\n",
    "    .toCsv(outputCsv2, data, klasy, outputColNames, outputRowNames, \n",
    "        TRUE)\n",
    "    list(data = data, clusters = klasy)\n",
    "}"
   ]
  },
  {
   "cell_type": "code",
   "execution_count": 7,
   "id": "b1767db5",
   "metadata": {},
   "outputs": [
    {
     "data": {
      "text/plain": [
       "array([[0, 0, 0, 0, 0, 0, 0, 0, 0, 0, 0, 0, 0, 0, 0, 0, 0, 0, 0, 0, 0, 0,\n",
       "        0, 0, 0, 0, 0, 0, 0, 0, 0, 0, 0, 0, 0, 0, 0, 0, 0, 0, 0, 0, 0, 0,\n",
       "        0, 0, 0, 0, 0, 0, 0, 0, 0, 0, 0, 0, 0, 0, 0, 0, 0, 0, 0, 0, 0, 0,\n",
       "        0, 0, 0, 0, 0, 0, 0, 0, 0, 0, 0, 0, 0, 0, 0, 0, 0, 0, 0, 0, 0, 0,\n",
       "        0, 0, 0, 0, 0, 0, 0, 0, 0, 0, 0, 0, 0, 0, 0, 0, 0, 0, 0, 0, 0, 0,\n",
       "        0, 0, 0, 0, 0, 0, 0, 0, 0, 0, 0, 0, 0, 0, 0, 0, 0, 0, 0, 0, 0, 0,\n",
       "        0, 0, 0, 0, 0, 0, 0, 0, 0, 0, 0, 0, 0, 0, 0, 0, 0, 0, 0, 0, 0, 0,\n",
       "        0, 0, 0, 0, 0, 0, 0, 0, 0, 0, 0, 0, 0, 0, 0, 0, 0, 0, 0, 0, 0, 0,\n",
       "        0, 0, 0, 0, 0, 0, 0, 0, 0, 0, 0, 0, 0, 0, 0, 0, 0, 0, 0, 0, 0, 0,\n",
       "        0, 0, 0, 0, 0, 0, 0, 0, 0, 0, 0, 0, 0, 0, 0, 0, 0, 0, 0, 0, 0, 0,\n",
       "        0, 0, 0, 0, 0, 0, 0, 0, 0, 0, 0, 0, 0, 0, 0, 0, 0, 0, 0, 0, 0, 0,\n",
       "        0, 0, 0, 0, 0, 0, 0, 0, 0, 0, 0, 0, 0, 0, 0, 0, 0, 0, 0, 0, 0, 0,\n",
       "        0, 0, 0, 0, 0, 0, 0, 0, 0, 0, 0, 0, 0, 0, 0, 0, 0, 0, 0, 0, 0, 0,\n",
       "        0, 0, 0, 0, 0, 0, 0, 0, 0, 0, 0, 0, 0, 0, 0, 0, 0, 0, 0, 0, 0, 0,\n",
       "        0, 0, 0, 0, 0, 0, 0, 0, 0, 0, 0, 0, 0, 0, 0, 0, 0, 0, 0, 0, 0, 0,\n",
       "        0, 0, 0, 0, 0, 0, 0, 0, 0, 0, 0, 0, 0, 0, 0, 0, 0, 0, 0, 0, 0, 0,\n",
       "        0, 0, 0, 0, 0, 0, 0, 0],\n",
       "       [0, 0, 0, 0, 0, 0, 0, 0, 0, 0, 0, 0, 0, 0, 0, 0, 0, 0, 0, 0, 0, 0,\n",
       "        0, 0, 0, 0, 0, 0, 0, 0, 0, 0, 0, 0, 0, 0, 0, 0, 0, 0, 0, 0, 0, 0,\n",
       "        0, 0, 0, 0, 0, 0, 0, 0, 0, 0, 0, 0, 0, 0, 0, 0, 0, 0, 0, 0, 0, 0,\n",
       "        0, 0, 0, 0, 0, 0, 0, 0, 0, 0, 0, 0, 0, 0, 0, 0, 0, 0, 0, 0, 0, 0,\n",
       "        0, 0, 0, 0, 0, 0, 0, 0, 0, 0, 0, 0, 0, 0, 0, 0, 0, 0, 0, 0, 0, 0,\n",
       "        0, 0, 0, 0, 0, 0, 0, 0, 0, 0, 0, 0, 0, 0, 0, 0, 0, 0, 0, 0, 0, 0,\n",
       "        0, 0, 0, 0, 0, 0, 0, 0, 0, 0, 0, 0, 0, 0, 0, 0, 0, 0, 0, 0, 0, 0,\n",
       "        0, 0, 0, 0, 0, 0, 0, 0, 0, 0, 0, 0, 0, 0, 0, 0, 0, 0, 0, 0, 0, 0,\n",
       "        0, 0, 0, 0, 0, 0, 0, 0, 0, 0, 0, 0, 0, 0, 0, 0, 0, 0, 0, 0, 0, 0,\n",
       "        0, 0, 0, 0, 0, 0, 0, 0, 0, 0, 0, 0, 0, 0, 0, 0, 0, 0, 0, 0, 0, 0,\n",
       "        0, 0, 0, 0, 0, 0, 0, 0, 0, 0, 0, 0, 0, 0, 0, 0, 0, 0, 0, 0, 0, 0,\n",
       "        0, 0, 0, 0, 0, 0, 0, 0, 0, 0, 0, 0, 0, 0, 0, 0, 0, 0, 0, 0, 0, 0,\n",
       "        0, 0, 0, 0, 0, 0, 0, 0, 0, 0, 0, 0, 0, 0, 0, 0, 0, 0, 0, 0, 0, 0,\n",
       "        0, 0, 0, 0, 0, 0, 0, 0, 0, 0, 0, 0, 0, 0, 0, 0, 0, 0, 0, 0, 0, 0,\n",
       "        0, 0, 0, 0, 0, 0, 0, 0, 0, 0, 0, 0, 0, 0, 0, 0, 0, 0, 0, 0, 0, 0,\n",
       "        0, 0, 0, 0, 0, 0, 0, 0, 0, 0, 0, 0, 0, 0, 0, 0, 0, 0, 0, 0, 0, 0,\n",
       "        0, 0, 0, 0, 0, 0, 0, 0]])"
      ]
     },
     "execution_count": 7,
     "metadata": {},
     "output_type": "execute_result"
    }
   ],
   "source": [
    "numObjects = 180\n"
   ]
  }
 ],
 "metadata": {
  "kernelspec": {
   "display_name": "Python 3 (ipykernel)",
   "language": "python",
   "name": "python3"
  },
  "language_info": {
   "codemirror_mode": {
    "name": "ipython",
    "version": 3
   },
   "file_extension": ".py",
   "mimetype": "text/x-python",
   "name": "python",
   "nbconvert_exporter": "python",
   "pygments_lexer": "ipython3",
   "version": "3.9.16"
  }
 },
 "nbformat": 4,
 "nbformat_minor": 5
}
